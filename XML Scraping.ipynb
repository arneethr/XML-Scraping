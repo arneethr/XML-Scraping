{
 "cells": [
  {
   "cell_type": "code",
   "execution_count": null,
   "id": "fda17929-1025-47c4-a57d-2c7e75fbbe36",
   "metadata": {},
   "outputs": [],
   "source": [
    "import os\n",
    "os.chdir(r\"C:\\Users\\arnee\\Desktop\\python\")"
   ]
  },
  {
   "cell_type": "code",
   "execution_count": null,
   "id": "0d052a85-07f7-40f2-8d19-eac44507ec0e",
   "metadata": {},
   "outputs": [],
   "source": [
    "import xml.etree.ElementTree as ET"
   ]
  },
  {
   "cell_type": "code",
   "execution_count": null,
   "id": "479cdb99-ffec-44f6-8741-28163b60a109",
   "metadata": {},
   "outputs": [],
   "source": [
    "tree=ET.parse('769952.xml')"
   ]
  },
  {
   "cell_type": "code",
   "execution_count": null,
   "id": "28482046-d462-4810-846e-1f108b2b215b",
   "metadata": {},
   "outputs": [],
   "source": [
    "root=tree.getroot()"
   ]
  },
  {
   "cell_type": "code",
   "execution_count": null,
   "id": "84b26ab0-e971-4683-916f-d97996f8359d",
   "metadata": {},
   "outputs": [],
   "source": [
    "root=ET.tostring(root,encoding='utf8').decode('utf8')"
   ]
  },
  {
   "cell_type": "code",
   "execution_count": null,
   "id": "016c5ffd-c947-40be-bf0d-252f183e0016",
   "metadata": {},
   "outputs": [],
   "source": [
    "root"
   ]
  },
  {
   "cell_type": "code",
   "execution_count": null,
   "id": "0bca142e-1bb7-4e0f-a8f6-c3d8411ec8c8",
   "metadata": {},
   "outputs": [],
   "source": [
    "import re,string,unicodedata,nltk"
   ]
  },
  {
   "cell_type": "code",
   "execution_count": null,
   "id": "a022d763-b54d-42d3-b56b-e82871d2672b",
   "metadata": {},
   "outputs": [],
   "source": [
    "from bs4 import BeautifulSoup"
   ]
  },
  {
   "cell_type": "code",
   "execution_count": null,
   "id": "34cb4b08-f900-435f-8728-83c5b4d102c3",
   "metadata": {},
   "outputs": [],
   "source": [
    "from nltk import word_tokenize,sent_tokenize"
   ]
  },
  {
   "cell_type": "code",
   "execution_count": null,
   "id": "07cd1db5-7659-4a4c-967f-08f04b235393",
   "metadata": {},
   "outputs": [],
   "source": [
    "from nltk.corpus import stopwords"
   ]
  },
  {
   "cell_type": "code",
   "execution_count": null,
   "id": "8fb2ecfe-fb2f-4ec5-9032-aa1dff8a0f9f",
   "metadata": {},
   "outputs": [],
   "source": [
    "from nltk.stem import LancasterStemmer,WordNetLemmatizer"
   ]
  },
  {
   "cell_type": "code",
   "execution_count": null,
   "id": "73a1a201-860a-454e-b2ab-1c33553dd20b",
   "metadata": {},
   "outputs": [],
   "source": [
    "def strip_html(text):\n",
    "    soup = BeautifulSoup(text,\"html.parser\")\n",
    "    return soup.get_text()\n",
    "def remove_square_brackets(text):\n",
    "    return re.sub(r'\\[[^]]*\\]','',text)\n",
    "def denoise_text(text):\n",
    "    text=strip_html(text)\n",
    "    text=remove_square_brackets(text)\n",
    "    text= re.sub(' ','',text)\n",
    "    return text\n",
    "sample= denoise_text(root)\n",
    "print(sample)"
   ]
  },
  {
   "cell_type": "code",
   "execution_count": null,
   "id": "e5a2e982-1151-484e-a4d1-c3ecef79e097",
   "metadata": {},
   "outputs": [],
   "source": []
  }
 ],
 "metadata": {
  "kernelspec": {
   "display_name": "Python 3 (ipykernel)",
   "language": "python",
   "name": "python3"
  },
  "language_info": {
   "codemirror_mode": {
    "name": "ipython",
    "version": 3
   },
   "file_extension": ".py",
   "mimetype": "text/x-python",
   "name": "python",
   "nbconvert_exporter": "python",
   "pygments_lexer": "ipython3",
   "version": "3.12.4"
  }
 },
 "nbformat": 4,
 "nbformat_minor": 5
}
